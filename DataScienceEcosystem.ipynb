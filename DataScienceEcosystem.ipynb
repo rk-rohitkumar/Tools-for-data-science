{
 "cells": [
  {
   "cell_type": "markdown",
   "id": "4cee8f4d-23bb-4bed-a07f-41eb994e48bf",
   "metadata": {},
   "source": [
    "# Data Science Tools and Ecosystem"
   ]
  },
  {
   "cell_type": "markdown",
   "id": "d0e7ab82-7bc3-46b2-a13a-0dcd7acad2d5",
   "metadata": {},
   "source": [
    "In this notebook, Data Science Tools and Ecosystem are summarized."
   ]
  },
  {
   "cell_type": "markdown",
   "id": "acaf9053-9cf3-4e02-99c7-5fee8745e578",
   "metadata": {},
   "source": [
    "**Objectives:**\n",
    "- List popular languages for Data Science\n",
    "- Commonly used libraries used by Data Scientists\n",
    "- Data Science Tools"
   ]
  },
  {
   "cell_type": "markdown",
   "id": "5f30a47b-5b6b-49b7-82e2-3570e86e38e2",
   "metadata": {},
   "source": [
    "Some of the popular languages that Data Scientists use are:\n",
    "1. Python\n",
    "2. R\n",
    "3. Scala\n",
    "4. Julia\n",
    "5. Java\n",
    "6. MATLAB"
   ]
  },
  {
   "cell_type": "markdown",
   "id": "2b55d8f4-943f-4128-b0b7-906ed324fc93",
   "metadata": {},
   "source": [
    "Some of the commonly used libraries used by Data Scientists include:\n",
    "1. pandas\n",
    "2. numpy\n",
    "3. tensorflow\n",
    "4. ggplot2\n",
    "5. caret"
   ]
  },
  {
   "cell_type": "markdown",
   "id": "cf4cf575-7dd8-4c5d-ba41-b5cbaf1e4b32",
   "metadata": {},
   "source": [
    "|Data Science Tools|\n",
    "|------|\n",
    "|Jupyter Notebook|\n",
    "|Spyder|\n",
    "|RStudio|"
   ]
  },
  {
   "cell_type": "markdown",
   "id": "1f04383b-a012-48d8-bbeb-92d7a386421d",
   "metadata": {},
   "source": [
    "### Below are a few examples of evaluating arithmetic expressions in Python\n",
    "5 + 3\n",
    "10 - 4\n",
    "7 * 6\n"
   ]
  },
  {
   "cell_type": "code",
   "execution_count": 2,
   "id": "0b6f499f-7769-4d35-aa7c-e01bbd6cc2d0",
   "metadata": {},
   "outputs": [
    {
     "data": {
      "text/plain": [
       "3.3333333333333335"
      ]
     },
     "execution_count": 2,
     "metadata": {},
     "output_type": "execute_result"
    }
   ],
   "source": [
    "# This will convert 200 minutes to hours by diving by 60\n",
    "200 / 60"
   ]
  },
  {
   "cell_type": "code",
   "execution_count": 3,
   "id": "4fdcbef2-606e-45ae-822b-7163707bcb10",
   "metadata": {},
   "outputs": [
    {
     "data": {
      "text/plain": [
       "17"
      ]
     },
     "execution_count": 3,
     "metadata": {},
     "output_type": "execute_result"
    }
   ],
   "source": [
    "# This a simple arithmetic expression to mutiply then add integers\n",
    "(3*4)+5"
   ]
  },
  {
   "cell_type": "markdown",
   "id": "380d7d15-0188-484f-8b23-59c21add0fa0",
   "metadata": {},
   "source": [
    "## Author Rohit"
   ]
  },
  {
   "cell_type": "code",
   "execution_count": null,
   "id": "e9c82536-5798-414f-b413-28104702c5a8",
   "metadata": {},
   "outputs": [],
   "source": []
  }
 ],
 "metadata": {
  "kernelspec": {
   "display_name": "Python [conda env:base] *",
   "language": "python",
   "name": "conda-base-py"
  },
  "language_info": {
   "codemirror_mode": {
    "name": "ipython",
    "version": 3
   },
   "file_extension": ".py",
   "mimetype": "text/x-python",
   "name": "python",
   "nbconvert_exporter": "python",
   "pygments_lexer": "ipython3",
   "version": "3.12.7"
  }
 },
 "nbformat": 4,
 "nbformat_minor": 5
}
